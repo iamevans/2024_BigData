{
 "cells": [
  {
   "cell_type": "markdown",
   "id": "cef49e0a-0777-46da-a351-316929934a88",
   "metadata": {},
   "source": [
    "## 30900_evans_0401_1교시"
   ]
  },
  {
   "cell_type": "code",
   "execution_count": 1,
   "id": "b7e0ec8f-9563-4852-ac28-9a39a8ea2e6c",
   "metadata": {},
   "outputs": [
    {
     "name": "stdout",
     "output_type": "stream",
     "text": [
      "배열의 최댓값을 구합니다.\n"
     ]
    },
    {
     "name": "stdin",
     "output_type": "stream",
     "text": [
      "원소 수를 입력하세요 :  10\n",
      "x[0]를 입력하세요.:  20\n",
      "x[1]를 입력하세요.:  30\n",
      "x[2]를 입력하세요.:  40\n",
      "x[3]를 입력하세요.:  50\n",
      "x[4]를 입력하세요.:  60\n",
      "x[5]를 입력하세요.:  70\n",
      "x[6]를 입력하세요.:  80\n",
      "x[7]를 입력하세요.:  90\n",
      "x[8]를 입력하세요.:  100\n",
      "x[9]를 입력하세요.:  110\n"
     ]
    },
    {
     "name": "stdout",
     "output_type": "stream",
     "text": [
      "최댓값은 110입니다.\n"
     ]
    }
   ],
   "source": [
    " # 시퀀스 원소의 최댓값 출력하기\n",
    "\n",
    "from typing import Any, Sequence\n",
    "\n",
    "def max_of(a: Sequence) -> Any:\n",
    "    \"\"\"시퀀스형 a 요소의 최댓값을 반환\"\"\"\n",
    "    maximum = a[0]\n",
    "    for i in range(1, len(a)):\n",
    "         if a[i] > maximum: \n",
    "            maximum = a[i]\n",
    "    return maximum\n",
    "\n",
    "if __name__ == '__main__':\n",
    "    print('배열의 최댓값을 구합니다.')\n",
    "    num = int(input('원소 수를 입력하세요 : '))\n",
    "    x = [None] * num    # 원소 수가 num인 리스트를 생성\n",
    "\n",
    "    for i in range(num):\n",
    "        x[i] = int(input(f'x[{i}]를 입력하세요.: '))\n",
    "\n",
    "    print(f'최댓값은 {max_of(x)}입니다.')"
   ]
  },
  {
   "cell_type": "code",
   "execution_count": 6,
   "id": "d9a9b554-bc29-4ae5-bebe-e70e75cbadce",
   "metadata": {},
   "outputs": [
    {
     "name": "stdout",
     "output_type": "stream",
     "text": [
      "배열의 최댓값을 구합니다.\n",
      "주의: \"End\"를 입력하면 종료합니다.\n"
     ]
    },
    {
     "name": "stdin",
     "output_type": "stream",
     "text": [
      "x[0]를 입력하세요.:  1\n",
      "x[1]를 입력하세요.:  2\n",
      "x[2]를 입력하세요.:  3\n",
      "x[3]를 입력하세요.:  End\n"
     ]
    },
    {
     "name": "stdout",
     "output_type": "stream",
     "text": [
      "3개를 입력했습니다.\n",
      "최댓값은 3입니다.\n"
     ]
    }
   ],
   "source": [
    " # 배열 원소의 최댓값을 구해서 출력하기(원솟값을 입력받음)\n",
    "\n",
    "# from max import max_of\n",
    "\n",
    "print('배열의 최댓값을 구합니다.')\n",
    "print('주의: \"End\"를 입력하면 종료합니다.')\n",
    "\n",
    "number = 0\n",
    "x = []                  # 빈 리스트\n",
    "\n",
    "while True:\n",
    "    s = input(f'x[{number}]를 입력하세요.: ')\n",
    "    if s == 'End':\n",
    "        break\n",
    "    x.append(int(s))    # 배열의 끝에 추가\n",
    "    number += 1\n",
    "\n",
    "print(f'{number}개를 입력했습니다.')\n",
    "print(f'최댓값은 {max_of(x)}입니다.')"
   ]
  },
  {
   "cell_type": "code",
   "execution_count": 7,
   "id": "3c7b9f0b-7900-4667-9f0e-f1c3edb77a0f",
   "metadata": {},
   "outputs": [
    {
     "name": "stdout",
     "output_type": "stream",
     "text": [
      "난수의 최댓값을 구합니다.\n"
     ]
    },
    {
     "name": "stdin",
     "output_type": "stream",
     "text": [
      "난수의 개수를 입력하세요.:  5\n",
      "난수의 최솟값을 입력하세요.:  1\n",
      "난수의 최댓값을 입력하세요.:  10\n"
     ]
    },
    {
     "name": "stdout",
     "output_type": "stream",
     "text": [
      "[1, 6, 10, 2, 10]\n",
      "이 가운데 최댓값은 10입니다.\n"
     ]
    }
   ],
   "source": [
    " # 배열 원소의 최댓값을 구해서 출력하기(원솟값을 난수로 생성)\n",
    "\n",
    "import random\n",
    "\n",
    "print('난수의 최댓값을 구합니다.')\n",
    "num = int(input('난수의 개수를 입력하세요.: '))\n",
    "lo = int(input('난수의 최솟값을 입력하세요.: '))\n",
    "hi = int(input('난수의 최댓값을 입력하세요.: '))\n",
    "x = [None] * num        # 원소 수 num인 리스트를 생성\n",
    "\n",
    "for i in range(num):\n",
    "    x[i] = random.randint(lo, hi)\n",
    "\n",
    "print(f'{(x)}')\n",
    "print(f'이 가운데 최댓값은 {max_of(x)}입니다.')"
   ]
  },
  {
   "cell_type": "code",
   "execution_count": null,
   "id": "58b57646-e3f3-49a4-884e-7ab695791dc0",
   "metadata": {},
   "outputs": [],
   "source": []
  }
 ],
 "metadata": {
  "kernelspec": {
   "display_name": "Python 3 (ipykernel)",
   "language": "python",
   "name": "python3"
  },
  "language_info": {
   "codemirror_mode": {
    "name": "ipython",
    "version": 3
   },
   "file_extension": ".py",
   "mimetype": "text/x-python",
   "name": "python",
   "nbconvert_exporter": "python",
   "pygments_lexer": "ipython3",
   "version": "3.9.7"
  }
 },
 "nbformat": 4,
 "nbformat_minor": 5
}
