{
 "cells": [
  {
   "cell_type": "markdown",
   "id": "6cde2b45-eaac-48de-a1b5-7acc72911936",
   "metadata": {},
   "source": [
    "## 30900_evans_1015_4"
   ]
  },
  {
   "cell_type": "code",
   "execution_count": 2,
   "id": "1aed39b3-09ce-4a11-b5fa-7d065761c403",
   "metadata": {},
   "outputs": [
    {
     "name": "stdout",
     "output_type": "stream",
     "text": [
      " C 드라이브의 볼륨에는 이름이 없습니다.\n",
      " 볼륨 일련 번호: 960B-0B64\n",
      "\n",
      " C:\\workspace\\class_09\\2024.1014-1018 디렉터리\n",
      "\n",
      "2024-10-15  오전 09:38    <DIR>          .\n",
      "2024-10-15  오전 09:38    <DIR>          ..\n",
      "2024-10-15  오후 12:05    <DIR>          .ipynb_checkpoints\n",
      "2024-10-14  오전 09:34               770 30900_evans_1015_4.ipynb\n",
      "2024-03-07  오전 11:41               302 exam.csv\n",
      "2024-03-07  오전 11:41            10,336 excel_exam.xlsx\n",
      "2024-03-07  오전 11:41             8,560 excel_exam_novar.xlsx\n",
      "2024-10-15  오전 09:36       112,929,611 Koweps_hpwc14_2019_beta2.sav\n",
      "2024-03-07  오전 11:41            16,049 mpg.csv\n",
      "2024-08-20  오전 11:31                58 output_newdata.csv\n",
      "               7개 파일         112,965,686 바이트\n",
      "               3개 디렉터리  78,349,299,712 바이트 남음\n"
     ]
    }
   ],
   "source": [
    "!dir"
   ]
  },
  {
   "cell_type": "code",
   "execution_count": null,
   "id": "34774655-816a-44fd-ad02-dc2e36df3059",
   "metadata": {},
   "outputs": [],
   "source": []
  }
 ],
 "metadata": {
  "kernelspec": {
   "display_name": "Python 3 (ipykernel)",
   "language": "python",
   "name": "python3"
  },
  "language_info": {
   "codemirror_mode": {
    "name": "ipython",
    "version": 3
   },
   "file_extension": ".py",
   "mimetype": "text/x-python",
   "name": "python",
   "nbconvert_exporter": "python",
   "pygments_lexer": "ipython3",
   "version": "3.11.7"
  }
 },
 "nbformat": 4,
 "nbformat_minor": 5
}
