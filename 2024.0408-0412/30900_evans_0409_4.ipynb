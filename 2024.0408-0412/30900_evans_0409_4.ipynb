{
 "cells": [
  {
   "cell_type": "markdown",
   "id": "d8fda429-a122-42dc-aa91-55c2b1a75d9f",
   "metadata": {},
   "source": [
    "## 30900_evans_0409_4"
   ]
  },
  {
   "cell_type": "markdown",
   "id": "c90b64a5-f41a-48d8-b95c-1c958c0f667d",
   "metadata": {},
   "source": [
    "## 조건문으로 간단한 프로그램 만들기"
   ]
  },
  {
   "cell_type": "code",
   "execution_count": 2,
   "id": "6345dbf3-1793-4af4-9819-445607e9337a",
   "metadata": {},
   "outputs": [
    {
     "name": "stdin",
     "output_type": "stream",
     "text": [
      "나이가 어떻게 되십니까?  29\n"
     ]
    },
    {
     "name": "stdout",
     "output_type": "stream",
     "text": [
      "성인은 15000원입니다.\n"
     ]
    }
   ],
   "source": [
    "# 목욕탕 가면 미성년자는 6000원 성인 15000원\n",
    "# 나이를 입력받아서 구분하는 프로그램을 만들어 보자\n",
    "\n",
    "age = int(input('나이가 어떻게 되십니까? '))\n",
    "\n",
    "if age >= 20 :\n",
    "    print('성인은 15000원입니다.')\n",
    "else :\n",
    "    print('미성년자는 6000원입니다')"
   ]
  },
  {
   "cell_type": "code",
   "execution_count": 6,
   "id": "64e5b88c-5063-4751-b57f-39611769016b",
   "metadata": {},
   "outputs": [
    {
     "name": "stdin",
     "output_type": "stream",
     "text": [
      "나이가 어떻게 되십니까?  19\n"
     ]
    },
    {
     "name": "stdout",
     "output_type": "stream",
     "text": [
      "미성년자는 6000원입니다.\n"
     ]
    },
    {
     "name": "stdin",
     "output_type": "stream",
     "text": [
      "금액을 투입해 주세요 -->  6000\n"
     ]
    },
    {
     "name": "stdout",
     "output_type": "stream",
     "text": [
      "감사합니다. 즐거운 시간 되세요~~~\n"
     ]
    }
   ],
   "source": [
    "# 나이 구분\n",
    "# 금액 구분\n",
    "\n",
    "# 1단계\n",
    "age = int(input('나이가 어떻게 되십니까? '))\n",
    "\n",
    "if age >= 20:\n",
    "    print('성인은 15000원입니다.')\n",
    "    price = 15000\n",
    "else :\n",
    "    print('미성년자는 6000원입니다.')\n",
    "    price = 6000\n",
    "    \n",
    "#2단계 투입금액을 입력받아 입장료와 비교하기\n",
    "price_input = int(input('금액을 투입해 주세요 --> '))\n",
    "\n",
    "if price_input < price :\n",
    "    print(f'{price-price_input}원 더 내셔야 합니다.')\n",
    "elif price_input == price :\n",
    "    print(f'감사합니다. 즐거운 시간 되세요~~~')\n",
    "else :\n",
    "    print(f'{price_input-price}원 거슬러 드리겠습니다.')"
   ]
  },
  {
   "cell_type": "markdown",
   "id": "6af7082e-93f5-4565-8656-782314fcb7ce",
   "metadata": {},
   "source": [
    "```\n",
    "어떤 메뉴가 궁금하신가요? 라면\n",
    "기본라면: 3500원\n",
    "떡라면: 4000원\n",
    "만두라면: 4000원\n",
    "\n",
    "김밥\n",
    "야채김밥 : 3000원\n",
    "참치김밥 : 4000원\n",
    "꼬마김밥 : 2000원\n",
    "```"
   ]
  },
  {
   "cell_type": "code",
   "execution_count": 8,
   "id": "17d5c07b-defd-42fc-a428-e22e1ce27945",
   "metadata": {},
   "outputs": [
    {
     "name": "stdin",
     "output_type": "stream",
     "text": [
      "어떤 메뉴가 궁금하신가요?  라면\n"
     ]
    },
    {
     "name": "stdout",
     "output_type": "stream",
     "text": [
      "기본라면: 3500원\n",
      "떡라면: 4000원\n",
      "만두라면: 4000원\n"
     ]
    }
   ],
   "source": [
    "menu = input('어떤 메뉴가 궁금하신가요? ')\n",
    "\n",
    "if menu == '김밥' :\n",
    "    print('야채김밥: 2500원')\n",
    "    print('참치김밥: 3500원')\n",
    "elif menu == '라면' :\n",
    "    print('기본라면: 3500원')\n",
    "    print('떡라면: 4000원')\n",
    "    print('만두라면: 4000원')\n",
    "else :\n",
    "    print('올바른 메뉴를 입력해 주세요')"
   ]
  },
  {
   "cell_type": "code",
   "execution_count": null,
   "id": "676244ae-de4b-4cca-8d7c-ca146fdbc6c1",
   "metadata": {},
   "outputs": [],
   "source": []
  }
 ],
 "metadata": {
  "kernelspec": {
   "display_name": "Python 3 (ipykernel)",
   "language": "python",
   "name": "python3"
  },
  "language_info": {
   "codemirror_mode": {
    "name": "ipython",
    "version": 3
   },
   "file_extension": ".py",
   "mimetype": "text/x-python",
   "name": "python",
   "nbconvert_exporter": "python",
   "pygments_lexer": "ipython3",
   "version": "3.9.7"
  }
 },
 "nbformat": 4,
 "nbformat_minor": 5
}
