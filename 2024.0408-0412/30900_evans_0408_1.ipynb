{
 "cells": [
  {
   "cell_type": "markdown",
   "id": "6003214a-049d-41b1-9eb8-8393537d1fcd",
   "metadata": {},
   "source": [
    "## 30900_evans_0408_1"
   ]
  },
  {
   "cell_type": "markdown",
   "id": "b2f985a5-0575-4cea-80a7-3d9c128e5537",
   "metadata": {},
   "source": [
    "## 선택구조 조건이 하나 일때\n",
    "- if문"
   ]
  },
  {
   "cell_type": "code",
   "execution_count": 2,
   "id": "d1307b69-ccdc-4c21-9eb9-3991f72ee454",
   "metadata": {},
   "outputs": [],
   "source": [
    "age = 20\n",
    "\n",
    "# 청소년은 주류를 구매할 수 없습니다. 출력\n",
    "\n",
    "if age < 20 :\n",
    "    print(f'청소는은 주류를 구매할 수 없습니다.')"
   ]
  },
  {
   "cell_type": "code",
   "execution_count": 7,
   "id": "ba9c7423-41a4-4d76-8336-6fdafdd6cfbf",
   "metadata": {},
   "outputs": [
    {
     "name": "stdin",
     "output_type": "stream",
     "text": [
      "나이가 어떻게 되세요?  20\n"
     ]
    },
    {
     "name": "stdout",
     "output_type": "stream",
     "text": [
      "성인이시네요 주류를 구매할 수 있습니다.\n"
     ]
    }
   ],
   "source": [
    "age = int(input('나이가 어떻게 되세요? '))\n",
    "\n",
    "if age < 20 :\n",
    "    print(f'청소년은 주류를 구매할 수 없습니다.')\n",
    "else :\n",
    "    print(f'성인이시네요 주류를 구매할 수 있습니다.')"
   ]
  },
  {
   "cell_type": "code",
   "execution_count": 10,
   "id": "99755362-9e38-44d4-9c89-643b01555c3f",
   "metadata": {},
   "outputs": [
    {
     "name": "stdin",
     "output_type": "stream",
     "text": [
      "나이가 어떻게 되세요?  19\n"
     ]
    },
    {
     "name": "stdout",
     "output_type": "stream",
     "text": [
      "청소년은 주류를 구매할 수 없습니다.\n",
      "1년 후에 구매 가능합니다.\n"
     ]
    }
   ],
   "source": [
    "age = int(input('나이가 어떻게 되세요? '))\n",
    "\n",
    "if age < 20 :\n",
    "    print(f'청소년은 주류를 구매할 수 없습니다.')\n",
    "print(f'{20-age}년 후에 구매 가능합니다.')"
   ]
  },
  {
   "cell_type": "markdown",
   "id": "a894d36b-5c8f-4411-b1de-d7b4472aae0f",
   "metadata": {},
   "source": [
    "# 50000원 이하면 배송비 2500원이 추가 됩니다."
   ]
  },
  {
   "cell_type": "code",
   "execution_count": 11,
   "id": "575774c2-f486-41e1-8e59-eec3723153fc",
   "metadata": {},
   "outputs": [
    {
     "name": "stdin",
     "output_type": "stream",
     "text": [
      "구매 금액은?  49999\n"
     ]
    },
    {
     "name": "stdout",
     "output_type": "stream",
     "text": [
      "배송비 2500원이 추가 됩니다.\n"
     ]
    }
   ],
   "source": [
    "price = int(input('구매 금액은? '))\n",
    "\n",
    "if price < 50000 :\n",
    "    print(f'배송비 2500원이 추가 됩니다.')"
   ]
  },
  {
   "cell_type": "code",
   "execution_count": 13,
   "id": "cc30d38f-dbe3-4f60-9f53-977ca5b5e092",
   "metadata": {},
   "outputs": [
    {
     "name": "stdin",
     "output_type": "stream",
     "text": [
      "구매 금액은?  50001\n"
     ]
    },
    {
     "name": "stdout",
     "output_type": "stream",
     "text": [
      "배송비 무료입니다.\n",
      "최종 결재 금액은 50001입니다.\n"
     ]
    }
   ],
   "source": [
    "price = int(input('구매 금액은? '))\n",
    "\n",
    "if price < 50000 :\n",
    "    print(f'배송비 2500원이 추가 됩니다.')\n",
    "    print(f'최종 결재 금액은 {price+2500}입니다.')\n",
    "else :\n",
    "    print(f'배송비 무료입니다.')\n",
    "    print(f'최종 결제 금액은 {price}입니다.')"
   ]
  },
  {
   "cell_type": "code",
   "execution_count": 14,
   "id": "fdd1fa5d-f129-40ae-b7a8-2445e017e4a4",
   "metadata": {},
   "outputs": [
    {
     "name": "stdin",
     "output_type": "stream",
     "text": [
      "오늘은 며칠입니다?  8\n"
     ]
    },
    {
     "name": "stdout",
     "output_type": "stream",
     "text": [
      "짝수번호 차량만 통행 가능합니다.\n",
      "홀수번호 차주는 오늘 대중교통을 이용해 주세요\n"
     ]
    }
   ],
   "source": [
    "# 차량 이부제\n",
    "date = int(input('오늘은 며칠입니다? '))\n",
    "\n",
    "if date % 2 == 0 :\n",
    "    print(f'짝수번호 차량만 통행 가능합니다.')\n",
    "    print(f'홀수번호 차주는 오늘 대중교통을 이용해 주세요')\n",
    "else :\n",
    "    print(f'홀수번호 차량만 통행 가능합니다.')\n",
    "    print(f'짝수번호 차주는 오늘 대중교통을 이용해 주세요')"
   ]
  },
  {
   "cell_type": "code",
   "execution_count": null,
   "id": "740a15a8-c48b-473c-bf3d-5bd7febb6ff2",
   "metadata": {},
   "outputs": [],
   "source": []
  }
 ],
 "metadata": {
  "kernelspec": {
   "display_name": "Python 3 (ipykernel)",
   "language": "python",
   "name": "python3"
  },
  "language_info": {
   "codemirror_mode": {
    "name": "ipython",
    "version": 3
   },
   "file_extension": ".py",
   "mimetype": "text/x-python",
   "name": "python",
   "nbconvert_exporter": "python",
   "pygments_lexer": "ipython3",
   "version": "3.9.7"
  }
 },
 "nbformat": 4,
 "nbformat_minor": 5
}
