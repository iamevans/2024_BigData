{
 "cells": [
  {
   "cell_type": "markdown",
   "id": "74edcead-d405-4572-a137-7bec50d05ab5",
   "metadata": {},
   "source": [
    "## 30900_evans_0429_1"
   ]
  },
  {
   "cell_type": "code",
   "execution_count": 1,
   "id": "85f58076-6117-4a06-a2fa-eb782a612424",
   "metadata": {},
   "outputs": [],
   "source": [
    "spending = [25, 36, 8, 53, 24, 56]"
   ]
  },
  {
   "cell_type": "code",
   "execution_count": 2,
   "id": "009636d1-7f11-4501-ae95-606dd0c5b338",
   "metadata": {},
   "outputs": [
    {
     "data": {
      "text/plain": [
       "[25, 36, 8, 53, 24, 56]"
      ]
     },
     "execution_count": 2,
     "metadata": {},
     "output_type": "execute_result"
    }
   ],
   "source": [
    "spending"
   ]
  },
  {
   "cell_type": "code",
   "execution_count": 3,
   "id": "eadc176c-d1eb-48d4-8303-b8bda0361ace",
   "metadata": {},
   "outputs": [
    {
     "data": {
      "text/plain": [
       "list"
      ]
     },
     "execution_count": 3,
     "metadata": {},
     "output_type": "execute_result"
    }
   ],
   "source": [
    "type(spending)"
   ]
  },
  {
   "cell_type": "code",
   "execution_count": 4,
   "id": "fd118170-0695-4ef9-acaa-e6a548646e89",
   "metadata": {},
   "outputs": [
    {
     "name": "stdout",
     "output_type": "stream",
     "text": [
      "<class 'list'> [25, 36, 8, 53, 24, 56, 38, 79, 94, 20, 40, 25]\n",
      "<class 'list'> [25, 36, 8, 53, 24, 56]\n"
     ]
    }
   ],
   "source": [
    "# 일년 지출\n",
    "spending_year = [25, 36, 8, 53, 24, 56, 38, 79, 94, 20, 40, 25]\n",
    "print(type(spending_year), spending_year)\n",
    "\n",
    "# 상반기 지출\n",
    "spending_6mon = [25, 36, 8, 53, 24, 56]\n",
    "print(type(spending_6mon), spending_6mon)"
   ]
  },
  {
   "cell_type": "code",
   "execution_count": 11,
   "id": "6d121b0b-96f5-4e36-9384-b544db381762",
   "metadata": {},
   "outputs": [
    {
     "name": "stdout",
     "output_type": "stream",
     "text": [
      "좋아하는 음식 개수 : 6\n",
      "좋아하는 음식 순위 : ['피자', '치킨', '떡볶이', '스테이크', '딸기', '파스타']\n",
      "가장 좋아하는 음식 : 피자\n",
      "가장 싫어하는 음식 : 파스타\n",
      "피자\n",
      "치킨\n",
      "떡볶이\n",
      "스테이크\n",
      "딸기\n",
      "파스타\n"
     ]
    }
   ],
   "source": [
    "# 가장 좋아하는 음식을 순서대로 저장한 리스트\n",
    "food = ['피자','치킨','떡볶이','스테이크','딸기','파스타']\n",
    "print('좋아하는 음식 개수 :',len(food)) # 개수 len\n",
    "print('좋아하는 음식 순위 :', food)\n",
    "print('가장 좋아하는 음식 :', food[0])\n",
    "print('가장 싫어하는 음식 :', food[-1])\n",
    "for i in food :\n",
    "    print(i)"
   ]
  },
  {
   "cell_type": "code",
   "execution_count": 18,
   "id": "8cc27f23-f503-407d-a690-30597898cb24",
   "metadata": {},
   "outputs": [
    {
     "name": "stdout",
     "output_type": "stream",
     "text": [
      "좋아하는 음식의 순위별로 출력하세요\n",
      "1등은 피자\n",
      "2등은 치킨\n",
      "3등은 떡볶이\n",
      "4등은 스테이크\n",
      "5등은 딸기\n",
      "6등은 파스타\n",
      "7등은 라면\n",
      "8등은 햄버거\n"
     ]
    }
   ],
   "source": [
    "# 가장 좋아하는 음식을 순서대로 저장한 리스트\n",
    "food = ['피자','치킨','떡볶이','스테이크','딸기','파스타','라면','햄버거']\n",
    "print('좋아하는 음식의 순위별로 출력하세요')\n",
    "for i in range(len(food)) :\n",
    "    print(f'{i+1}등은 {food[i]}')"
   ]
  },
  {
   "cell_type": "code",
   "execution_count": 19,
   "id": "e7ae6b44-9248-4a08-978f-b43b5f1ae9ea",
   "metadata": {},
   "outputs": [
    {
     "name": "stdout",
     "output_type": "stream",
     "text": [
      "['피자', '치킨', '떡볶이', '스테이크', '딸기', '파스타', '라면', '햄버거', '감자칩']\n"
     ]
    }
   ],
   "source": [
    "# food에 감자칩 을 추가해 주면\n",
    "food.append('감자칩')\n",
    "print(food)"
   ]
  },
  {
   "cell_type": "markdown",
   "id": "29e34e83-d49c-48ec-92a8-86903a77ca47",
   "metadata": {},
   "source": [
    "```\n",
    "해야할 일을 차례대로 입력해주세요.\n",
    "생일선물 사기\n",
    "인강 듣기\n",
    "파이썬 6장 공부하기\n",
    "책 읽기\n",
    "영단어 외우기\n",
    "```"
   ]
  },
  {
   "cell_type": "code",
   "execution_count": 21,
   "id": "3fcc448a-7558-4266-b388-bb19f9a0fd6d",
   "metadata": {},
   "outputs": [
    {
     "name": "stdout",
     "output_type": "stream",
     "text": [
      "해야할 일을 차례대로 입력해 주세요\n"
     ]
    },
    {
     "name": "stdin",
     "output_type": "stream",
     "text": [
      " 선물사기\n",
      " 인강 듣기\n",
      " 빅데이터분석 공부하기\n",
      " 책 읽기\n",
      " 영단어 외우기\n"
     ]
    },
    {
     "name": "stdout",
     "output_type": "stream",
     "text": [
      "['선물사기', '인강 듣기', '빅데이터분석 공부하기', '책 읽기', '영단어 외우기']\n"
     ]
    }
   ],
   "source": [
    "to_do = []\n",
    "print('해야할 일을 차례대로 입력해 주세요')\n",
    "\n",
    "for i in range(5) :\n",
    "    to_do.append(input())\n",
    "    \n",
    "print(to_do)"
   ]
  },
  {
   "cell_type": "code",
   "execution_count": 22,
   "id": "86b33b36-2c54-4b1a-9a2b-e6798470eae9",
   "metadata": {},
   "outputs": [
    {
     "name": "stdout",
     "output_type": "stream",
     "text": [
      "['인강 듣기', '빅데이터분석 공부하기', '책 읽기', '영단어 외우기']\n"
     ]
    }
   ],
   "source": [
    "# 리스트에서 지우는 명령어 remove\n",
    "to_do.remove('선물사기')\n",
    "print(to_do)"
   ]
  },
  {
   "cell_type": "code",
   "execution_count": 24,
   "id": "f76998d5-a5db-42fd-a4f3-07d9e83de555",
   "metadata": {},
   "outputs": [
    {
     "name": "stdout",
     "output_type": "stream",
     "text": [
      "연도 : 2024\n",
      "월 : 04\n",
      "일 : 29\n"
     ]
    }
   ],
   "source": [
    "date = '2024-04-29'\n",
    "\n",
    "print('연도 :', date[:4])\n",
    "print('월 :', date[5:7])\n",
    "print('일 :', date[-2:])"
   ]
  },
  {
   "cell_type": "code",
   "execution_count": null,
   "id": "12ed2e23-87f2-4751-80cb-e6fe03eee4e1",
   "metadata": {},
   "outputs": [],
   "source": []
  }
 ],
 "metadata": {
  "kernelspec": {
   "display_name": "Python 3 (ipykernel)",
   "language": "python",
   "name": "python3"
  },
  "language_info": {
   "codemirror_mode": {
    "name": "ipython",
    "version": 3
   },
   "file_extension": ".py",
   "mimetype": "text/x-python",
   "name": "python",
   "nbconvert_exporter": "python",
   "pygments_lexer": "ipython3",
   "version": "3.9.7"
  }
 },
 "nbformat": 4,
 "nbformat_minor": 5
}
