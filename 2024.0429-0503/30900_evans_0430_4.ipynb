{
 "cells": [
  {
   "cell_type": "markdown",
   "id": "b0c3342c-66a1-4e8e-8299-ab28ce98febb",
   "metadata": {},
   "source": [
    "## 30900_evans_0430_4"
   ]
  },
  {
   "cell_type": "code",
   "execution_count": 1,
   "id": "a7bed003-ca44-434f-9759-7d2b889a7e1f",
   "metadata": {},
   "outputs": [
    {
     "name": "stdout",
     "output_type": "stream",
     "text": [
      "연도 : 2024\n",
      "월 : 04\n",
      "일 : 30\n"
     ]
    }
   ],
   "source": [
    "date = '2024-04-30'\n",
    "\n",
    "print('연도 :',date[:4])\n",
    "print('월 :',date[5:7])\n",
    "print('일 :',date[-2:])"
   ]
  },
  {
   "cell_type": "code",
   "execution_count": 4,
   "id": "5577d433-050a-4ffa-a5d0-43ddd7bb319e",
   "metadata": {},
   "outputs": [
    {
     "name": "stdout",
     "output_type": "stream",
     "text": [
      "['준원이', '바보', '바보']\n",
      "준원이\n",
      "바보\n",
      "바보\n"
     ]
    }
   ],
   "source": [
    "# 공부으로 문장을 나누는 명령어 split\n",
    "a = \"준원이 바보 바보\"\n",
    "print(a.split()) # list\n",
    "print(a.split()[0])\n",
    "print(a.split()[1])\n",
    "print(a.split()[2])"
   ]
  },
  {
   "cell_type": "code",
   "execution_count": 6,
   "id": "780f7ba3-d357-466f-9d31-5c333f3ddb8d",
   "metadata": {},
   "outputs": [
    {
     "name": "stdout",
     "output_type": "stream",
     "text": [
      "['2024', '04', '30']\n",
      "2024\n",
      "04\n",
      "30\n"
     ]
    }
   ],
   "source": [
    "# -(하이픈)을 기준으로 split\n",
    "date = '2024-04-30'\n",
    "print(date.split('-'))\n",
    "print(date.split('-')[0])\n",
    "print(date.split('-')[1])\n",
    "print(date.split('-')[2])"
   ]
  },
  {
   "cell_type": "code",
   "execution_count": 7,
   "id": "818f2250-15ed-4827-bb25-aca60a3463aa",
   "metadata": {},
   "outputs": [
    {
     "name": "stdout",
     "output_type": "stream",
     "text": [
      "정렬 후 :  ['감자칩', '된장찌개', '바나나', '스테이크', '치킨', '파스타', '피자']\n"
     ]
    }
   ],
   "source": [
    "# 리스트 원소 정렬하기 .sort()\n",
    "food =['피자', '치킨', '스테이크', '된장찌개','바나나', '파스타', '감자칩']\n",
    "\n",
    "food.sort()\n",
    "print('정렬 후 : ' , food)"
   ]
  },
  {
   "cell_type": "code",
   "execution_count": 8,
   "id": "7dfe7b26-2222-47d7-b18d-6cc984ee59f9",
   "metadata": {},
   "outputs": [
    {
     "name": "stdout",
     "output_type": "stream",
     "text": [
      "역순 정렬 후 :  ['피자', '파스타', '치킨', '스테이크', '바나나', '된장찌개', '감자칩']\n"
     ]
    }
   ],
   "source": [
    "# 리스트 원소 내림차순(역순)으로 정렬하기 .sort(reverse=True)\n",
    "food =['피자', '치킨', '스테이크', '된장찌개','바나나', '파스타', '감자칩']\n",
    "\n",
    "food.sort(reverse=True)\n",
    "print('역순 정렬 후 : ' , food)"
   ]
  },
  {
   "cell_type": "code",
   "execution_count": 10,
   "id": "e8d8ae77-05aa-4bf0-974c-42fdb65bb28f",
   "metadata": {},
   "outputs": [
    {
     "name": "stdout",
     "output_type": "stream",
     "text": [
      "[56, 53]\n"
     ]
    }
   ],
   "source": [
    "# 문제 역순으로 정렬하고 첫번째 두번째를 출력해 보기\n",
    "spending_6mon =[25, 36, 8, 53, 24, 56]\n",
    "\n",
    "spending_6mon.sort(reverse=True)\n",
    "print(spending_6mon[:2])"
   ]
  },
  {
   "cell_type": "code",
   "execution_count": 14,
   "id": "fb9af89c-b83d-4286-baf9-1524b212fab7",
   "metadata": {},
   "outputs": [
    {
     "name": "stdout",
     "output_type": "stream",
     "text": [
      "최댓값 : 56\n",
      "최소값 : 8\n",
      "전체합 : 202\n",
      "24의 위치는 : 5\n"
     ]
    }
   ],
   "source": [
    "# 리스트 원소 중 최대값, 최소값 찾기 max min\n",
    "spending_6mon =[25, 36, 8, 53, 24, 56]\n",
    "print('최댓값 :',max(spending_6mon))\n",
    "print('최소값 :',min(spending_6mon))\n",
    "# 리스트 원소 전체의 합 : sum\n",
    "print('전체합 :',sum(spending_6mon))\n",
    "# 리스트안의 원소의 위치를 찾기 index\n",
    "print('24의 위치는 :',spending_6mon.index(24)+1)"
   ]
  },
  {
   "cell_type": "code",
   "execution_count": null,
   "id": "7d68d595-9d4d-4792-996e-891c017d6f69",
   "metadata": {},
   "outputs": [],
   "source": []
  }
 ],
 "metadata": {
  "kernelspec": {
   "display_name": "Python 3 (ipykernel)",
   "language": "python",
   "name": "python3"
  },
  "language_info": {
   "codemirror_mode": {
    "name": "ipython",
    "version": 3
   },
   "file_extension": ".py",
   "mimetype": "text/x-python",
   "name": "python",
   "nbconvert_exporter": "python",
   "pygments_lexer": "ipython3",
   "version": "3.9.7"
  }
 },
 "nbformat": 4,
 "nbformat_minor": 5
}
