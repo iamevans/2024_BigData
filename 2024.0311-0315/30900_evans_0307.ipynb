{
 "cells": [
  {
   "cell_type": "markdown",
   "id": "f53a2172",
   "metadata": {},
   "source": [
    "본 문제는 python 의 빠른 기초 학습을 위해 설계된 문제로서 python 코드 제출을 기준으로 설명되어 있습니다. \n",
    "------\n",
    "\n",
    "문자(character)는\n",
    "0~9, a~z, A~Z, !, @, #, {, [, <, ... 과 같이 \n",
    "길이가 1인 기호라고 할 수 있다.\n",
    "\n",
    "변수에 문자 1개를 저장한 후\n",
    "변수에 저장되어 있는 문자를 그대로 출력해보자.\n",
    "\n",
    "예시\n",
    "c = input()\n",
    "print(c)\n",
    "\n",
    "와 같은 형태로 가능하다.\n",
    "\n",
    "참고\n",
    "input() 을 사용하면 키보드로 입력한 값을 가져온다.\n",
    "변수 = input()\n",
    "를 실행시키면 키보드로 입력한 값을 왼쪽의 변수에 저장한다.\n",
    "\n",
    "변수(variable)는 어떤 값(정수, 실수, 문자, 문자열 등)을 저장할 수 있는 공간의 별명이라고 할 수 있다.\n",
    "어떤 값을 저장했다가 다시 사용하기 위해서 변수를 사용한다. 저장할 내용들이 많으면 필요한 만큼 변수를 만들어 사용하면 된다.\n",
    "변수는 포스트 잇과 같은 메모지에 필요한 내용을 적어두었다가, 필요할 때 찾아 살펴보는 것과 비슷하다.\n",
    "\n",
    "대수학(algebra)에서는 어떤 수나 값을 대신해 문자로 표현하는 방법을 사용한다.\n",
    "프로그래밍언어에서도 마찬가지로 자신이 알아보기 쉬운 짧은 단어를 사용하는 것이 좋다. 예시) y = x + 3"
   ]
  },
  {
   "cell_type": "code",
   "execution_count": null,
   "id": "2b3ba46a",
   "metadata": {},
   "outputs": [],
   "source": []
  }
 ],
 "metadata": {
  "kernelspec": {
   "display_name": "Python 3 (ipykernel)",
   "language": "python",
   "name": "python3"
  },
  "language_info": {
   "codemirror_mode": {
    "name": "ipython",
    "version": 3
   },
   "file_extension": ".py",
   "mimetype": "text/x-python",
   "name": "python",
   "nbconvert_exporter": "python",
   "pygments_lexer": "ipython3",
   "version": "3.9.7"
  }
 },
 "nbformat": 4,
 "nbformat_minor": 5
}
