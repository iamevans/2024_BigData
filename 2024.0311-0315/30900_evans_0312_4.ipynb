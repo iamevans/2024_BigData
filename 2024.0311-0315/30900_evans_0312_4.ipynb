{
 "cells": [
  {
   "cell_type": "markdown",
   "id": "12256f5f-8621-4a1d-a791-74f189a835f5",
   "metadata": {},
   "source": [
    "## 30900_evans_0312_4"
   ]
  },
  {
   "cell_type": "markdown",
   "id": "b08170cd-9e3b-42f5-b40c-e860db3e1fd4",
   "metadata": {},
   "source": [
    "## 2.3  데이터를 넣는 입력 명령어\n",
    "#### 2.3.2  입력 명령어 input()"
   ]
  },
  {
   "cell_type": "code",
   "execution_count": 2,
   "id": "518e01b7-7df8-4952-9094-7b986c0caee0",
   "metadata": {},
   "outputs": [
    {
     "name": "stdin",
     "output_type": "stream",
     "text": [
      " 성일정보\n"
     ]
    },
    {
     "data": {
      "text/plain": [
       "'성일정보'"
      ]
     },
     "execution_count": 2,
     "metadata": {},
     "output_type": "execute_result"
    }
   ],
   "source": [
    "input()"
   ]
  },
  {
   "cell_type": "code",
   "execution_count": 7,
   "id": "7d032001-ed17-4c45-b238-552ffa3415d7",
   "metadata": {},
   "outputs": [
    {
     "name": "stdin",
     "output_type": "stream",
     "text": [
      "이름 성일\n"
     ]
    },
    {
     "data": {
      "text/plain": [
       "'성일'"
      ]
     },
     "execution_count": 7,
     "metadata": {},
     "output_type": "execute_result"
    }
   ],
   "source": [
    "input(\"이름\")"
   ]
  },
  {
   "cell_type": "markdown",
   "id": "64cf39a3-d1b3-4e32-b07f-62a847b1fc39",
   "metadata": {},
   "source": [
    "출력형태\n",
    "```\n",
    "아이디 :\n",
    "비밀번호 :\n",
    "```"
   ]
  },
  {
   "cell_type": "code",
   "execution_count": 9,
   "id": "c2a04090-b94d-4a3d-b5a3-12f120b4de29",
   "metadata": {},
   "outputs": [
    {
     "name": "stdin",
     "output_type": "stream",
     "text": [
      "아이디 : 111\n",
      "비밀번호 : 222\n"
     ]
    },
    {
     "data": {
      "text/plain": [
       "'222'"
      ]
     },
     "execution_count": 9,
     "metadata": {},
     "output_type": "execute_result"
    }
   ],
   "source": [
    "input('아이디 :')\n",
    "input('비밀번호 :')"
   ]
  },
  {
   "cell_type": "markdown",
   "id": "9a99b9c3-78a1-4be4-b02c-ae8b76982a63",
   "metadata": {},
   "source": [
    "> 다음을 출력해 봅시다\n",
    "```\n",
    "학번을 입력하세요 ---> 03900\n",
    "```"
   ]
  },
  {
   "cell_type": "code",
   "execution_count": 10,
   "id": "1e700bd7-34e7-4f3b-a545-8dc61b097fd4",
   "metadata": {},
   "outputs": [
    {
     "name": "stdin",
     "output_type": "stream",
     "text": [
      "학번을 입력하세요 --->  30900\n"
     ]
    },
    {
     "data": {
      "text/plain": [
       "'30900'"
      ]
     },
     "execution_count": 10,
     "metadata": {},
     "output_type": "execute_result"
    }
   ],
   "source": [
    "input('학번을 입력하세요 ---> ')"
   ]
  },
  {
   "cell_type": "markdown",
   "id": "22248d4b-51a5-41ca-92dc-302264d09f11",
   "metadata": {},
   "source": [
    "> 출력해 보기\n",
    "```\n",
    "---회원가입---\n",
    "아이디: gilbut\n",
    "가입을 환영합니다!  \n",
    "```"
   ]
  },
  {
   "cell_type": "code",
   "execution_count": 11,
   "id": "f607fb7c-bdaa-4af2-bf31-a16e0eff9602",
   "metadata": {},
   "outputs": [
    {
     "name": "stdout",
     "output_type": "stream",
     "text": [
      "---회원가입---\n"
     ]
    },
    {
     "name": "stdin",
     "output_type": "stream",
     "text": [
      "아이디:  gibut\n"
     ]
    },
    {
     "name": "stdout",
     "output_type": "stream",
     "text": [
      "가입을 환영합니다!  \n"
     ]
    }
   ],
   "source": [
    "print('---회원가입---')\n",
    "input('아이디: ')\n",
    "print('가입을 환영합니다!  ')"
   ]
  },
  {
   "cell_type": "markdown",
   "id": "80a10cba-206f-42da-894f-9597268f224f",
   "metadata": {},
   "source": [
    "> 출력해 봅시다\n",
    "\n",
    "```\n",
    "닉네임을 입력해 주세요 --> 졔졔쌤\n",
    "졔졔쌤님 안녕하세요\n",
    "```"
   ]
  },
  {
   "cell_type": "code",
   "execution_count": 12,
   "id": "0dbe8a84-cd6b-4f5a-a52f-b90ef84f26c2",
   "metadata": {},
   "outputs": [
    {
     "name": "stdin",
     "output_type": "stream",
     "text": [
      "닉네임을 입력해 주세요 -->  호샘\n"
     ]
    },
    {
     "name": "stdout",
     "output_type": "stream",
     "text": [
      "호샘님 안녕하세요\n"
     ]
    }
   ],
   "source": [
    "print(input('닉네임을 입력해 주세요 --> ') + '님 안녕하세요')"
   ]
  },
  {
   "cell_type": "code",
   "execution_count": null,
   "id": "982e86b1-0350-47f8-b372-820abadf5b55",
   "metadata": {},
   "outputs": [],
   "source": []
  }
 ],
 "metadata": {
  "kernelspec": {
   "display_name": "Python 3 (ipykernel)",
   "language": "python",
   "name": "python3"
  },
  "language_info": {
   "codemirror_mode": {
    "name": "ipython",
    "version": 3
   },
   "file_extension": ".py",
   "mimetype": "text/x-python",
   "name": "python",
   "nbconvert_exporter": "python",
   "pygments_lexer": "ipython3",
   "version": "3.9.7"
  }
 },
 "nbformat": 4,
 "nbformat_minor": 5
}
