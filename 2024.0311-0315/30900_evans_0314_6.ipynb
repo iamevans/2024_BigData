{
 "cells": [
  {
   "cell_type": "markdown",
   "id": "da7d6bd7-8a44-43c8-99eb-7dd3593eb395",
   "metadata": {},
   "source": [
    "## 30900_evans_0314_6"
   ]
  },
  {
   "cell_type": "markdown",
   "id": "bce746b5-0638-4144-b854-8429bb8553cc",
   "metadata": {},
   "source": [
    "## 3.1  데이터를 저장하는 공간: 변수\n",
    "#### 3.1.1  변수란"
   ]
  },
  {
   "cell_type": "code",
   "execution_count": 1,
   "id": "1a1847dc-d77b-4090-b9c3-439b19d1b022",
   "metadata": {},
   "outputs": [],
   "source": [
    "a = 10"
   ]
  },
  {
   "cell_type": "code",
   "execution_count": 2,
   "id": "c7048496-a898-418e-9dcf-eb81d6d6fe80",
   "metadata": {},
   "outputs": [],
   "source": [
    "a = 20"
   ]
  },
  {
   "cell_type": "code",
   "execution_count": 3,
   "id": "df4ef602-7d5e-49f2-9c8c-deaf186abf5d",
   "metadata": {},
   "outputs": [
    {
     "name": "stdout",
     "output_type": "stream",
     "text": [
      "20\n"
     ]
    }
   ],
   "source": [
    "print(a)"
   ]
  },
  {
   "cell_type": "markdown",
   "id": "f8c80163-8213-481f-b97c-78f171796276",
   "metadata": {},
   "source": [
    "#### 3.1.2  변수에 값을 저장하고 사용하기"
   ]
  },
  {
   "cell_type": "code",
   "execution_count": 5,
   "id": "a153f270-65b7-4a23-ac67-e3e4a8b88720",
   "metadata": {},
   "outputs": [
    {
     "name": "stdout",
     "output_type": "stream",
     "text": [
      "a\n",
      "10\n"
     ]
    }
   ],
   "source": [
    "a = 10\n",
    "print('a')\n",
    "print(a)"
   ]
  },
  {
   "cell_type": "code",
   "execution_count": 8,
   "id": "1805424d-5667-4df2-8a1c-9174950a98b5",
   "metadata": {},
   "outputs": [
    {
     "name": "stdout",
     "output_type": "stream",
     "text": [
      "10\n"
     ]
    }
   ],
   "source": [
    "가나다 = 10\n",
    "print(가나다)"
   ]
  },
  {
   "cell_type": "code",
   "execution_count": 9,
   "id": "e4c2b83d-1c42-4bcd-baae-b6fd7dee2c16",
   "metadata": {},
   "outputs": [],
   "source": [
    "b = '성일'\n",
    "c = '정보'"
   ]
  },
  {
   "cell_type": "code",
   "execution_count": 17,
   "id": "0f10ad20-ece6-4ddc-9a52-05cf4a2601c2",
   "metadata": {},
   "outputs": [
    {
     "name": "stdout",
     "output_type": "stream",
     "text": [
      "유리 175.5 21 programming\n"
     ]
    }
   ],
   "source": [
    "name = '유리'\n",
    "height = 175.5\n",
    "age = 21\n",
    "hobby = 'programming'\n",
    "print(name, height, age, hobby)"
   ]
  },
  {
   "cell_type": "markdown",
   "id": "17ccb924-9568-4c6e-baf9-1d852245ecfc",
   "metadata": {},
   "source": [
    "```\n",
    "유리 키는 175.5 , 나이는 21 , 취미는 programming 입니다!\n",
    "```"
   ]
  },
  {
   "cell_type": "code",
   "execution_count": 19,
   "id": "746b9fc1-5d01-4a8c-a2b2-8f67b8fc927b",
   "metadata": {},
   "outputs": [
    {
     "name": "stdout",
     "output_type": "stream",
     "text": [
      "유리 키는 175.5 , 나이는 21 , 취미는 programming 입니다!\n"
     ]
    }
   ],
   "source": [
    "name = '유리'\n",
    "height = 175.5\n",
    "age = 21\n",
    "hobby = 'programming'\n",
    "print(name, '키는', height, ', 나이는', age, ', 취미는', hobby, '입니다!')"
   ]
  },
  {
   "cell_type": "markdown",
   "id": "16cea38a-06e3-4512-b592-6465e2c89061",
   "metadata": {},
   "source": [
    "```\n",
    "유리 키는 175.5 , 나이는 21 , 취미는 programming 입니다!\n",
    "제임스 키는 186 , 나이는 24 , 취미는 요리하기 입니다!\n",
    "```"
   ]
  },
  {
   "cell_type": "code",
   "execution_count": 22,
   "id": "805f890e-30ef-47cd-b7e8-40a22522aa46",
   "metadata": {},
   "outputs": [
    {
     "name": "stdout",
     "output_type": "stream",
     "text": [
      "유리 키는 175.5 , 나이는 21 , 취미는 programming 입니다!\n",
      "유리 키는 175.5, 나이는 21, 취미는 programming입니다.\n",
      "유리 키는 175.5, 나이는 21, 취미는 programming입니다.\n"
     ]
    }
   ],
   "source": [
    "name = '유리'\n",
    "height = 175.5\n",
    "age = 21\n",
    "hobby = 'programming'\n",
    "print(name, '키는', height, ', 나이는', age, ', 취미는', hobby, '입니다!')\n",
    "print('{} 키는 {}, 나이는 {}, 취미는 {}입니다.'.format(name, height, age, hobby))\n",
    "print(f'{name} 키는 {height}, 나이는 {age}, 취미는 {hobby}입니다.')"
   ]
  },
  {
   "cell_type": "markdown",
   "id": "bbbe4ff0-d02a-47ac-93af-d4e644d41ce4",
   "metadata": {},
   "source": [
    ">원의 넓이 구해봅시다.\n",
    "```\n",
    "공식 : 파이 * 반지름 ** 2\n",
    "p = 3.141592\n",
    "r = 5\n",
    "```"
   ]
  },
  {
   "cell_type": "code",
   "execution_count": 24,
   "id": "e4053eff-14a8-4060-83e9-51c7db4df641",
   "metadata": {},
   "outputs": [
    {
     "name": "stdout",
     "output_type": "stream",
     "text": [
      "원의 넓이 = 78.5398\n"
     ]
    }
   ],
   "source": [
    "p = 3.141592\n",
    "r = 5\n",
    "result = p * r ** 2\n",
    "print(f'원의 넓이 = {result}')"
   ]
  },
  {
   "cell_type": "code",
   "execution_count": null,
   "id": "b45fe5cd-2670-4474-acff-a2caf3ce063a",
   "metadata": {},
   "outputs": [],
   "source": []
  }
 ],
 "metadata": {
  "kernelspec": {
   "display_name": "Python 3 (ipykernel)",
   "language": "python",
   "name": "python3"
  },
  "language_info": {
   "codemirror_mode": {
    "name": "ipython",
    "version": 3
   },
   "file_extension": ".py",
   "mimetype": "text/x-python",
   "name": "python",
   "nbconvert_exporter": "python",
   "pygments_lexer": "ipython3",
   "version": "3.9.7"
  }
 },
 "nbformat": 4,
 "nbformat_minor": 5
}
