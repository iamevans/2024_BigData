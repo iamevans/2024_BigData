{
 "cells": [
  {
   "cell_type": "markdown",
   "id": "1a573dfc-c069-4dd8-ae0b-deccac8dac48",
   "metadata": {},
   "source": [
    "## 30900_evans_0904_3"
   ]
  },
  {
   "cell_type": "code",
   "execution_count": null,
   "id": "9c60693b-c1c3-400e-9c6b-183877657eb3",
   "metadata": {},
   "outputs": [],
   "source": []
  }
 ],
 "metadata": {
  "kernelspec": {
   "display_name": "Python 3 (ipykernel)",
   "language": "python",
   "name": "python3"
  },
  "language_info": {
   "codemirror_mode": {
    "name": "ipython",
    "version": 3
   },
   "file_extension": ".py",
   "mimetype": "text/x-python",
   "name": "python",
   "nbconvert_exporter": "python",
   "pygments_lexer": "ipython3",
   "version": "3.11.7"
  }
 },
 "nbformat": 4,
 "nbformat_minor": 5
}
