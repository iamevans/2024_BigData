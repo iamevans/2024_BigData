{
 "cells": [
  {
   "cell_type": "markdown",
   "id": "2d965db2-096c-4eda-a17c-795d7d1cdc81",
   "metadata": {},
   "source": [
    "## 30900_evans_0516_7"
   ]
  },
  {
   "cell_type": "markdown",
   "id": "aca1e967-c1f8-4493-9ed5-cb2e775f5ebc",
   "metadata": {},
   "source": [
    "# 이차원 리스트"
   ]
  },
  {
   "cell_type": "code",
   "execution_count": 3,
   "id": "caaf0202-c2a8-4898-8a0a-8c621939ab4b",
   "metadata": {
    "tags": []
   },
   "outputs": [
    {
     "name": "stdout",
     "output_type": "stream",
     "text": [
      "[[1, 2, 3], [4, 5, 6], [7, 8, 9]]\n"
     ]
    }
   ],
   "source": [
    "abc = [[1,2,3], [4,5,6], [7,8,9]]\n",
    "print(abc)"
   ]
  },
  {
   "cell_type": "code",
   "execution_count": 5,
   "id": "99634964-0156-4b54-8808-4675ef9a6431",
   "metadata": {
    "tags": []
   },
   "outputs": [
    {
     "name": "stdout",
     "output_type": "stream",
     "text": [
      "[1, 2, 3]\n",
      "[4, 5, 6]\n",
      "[7, 8, 9]\n"
     ]
    }
   ],
   "source": [
    "for row in abc:\n",
    "    print(row)"
   ]
  },
  {
   "cell_type": "code",
   "execution_count": 7,
   "id": "a5d84441-1e12-4823-9595-30b8d0b5da4e",
   "metadata": {
    "tags": []
   },
   "outputs": [
    {
     "name": "stdout",
     "output_type": "stream",
     "text": [
      "1\n"
     ]
    }
   ],
   "source": [
    "print(abc[0][0])"
   ]
  },
  {
   "cell_type": "code",
   "execution_count": 9,
   "id": "2addf67b-06e0-425c-a804-6fe4cd5861de",
   "metadata": {
    "tags": []
   },
   "outputs": [
    {
     "name": "stdout",
     "output_type": "stream",
     "text": [
      "6\n"
     ]
    }
   ],
   "source": [
    "print(abc[1][2])"
   ]
  },
  {
   "cell_type": "code",
   "execution_count": 11,
   "id": "c00e694e-26b7-4a6d-9e02-3d3286d203db",
   "metadata": {
    "tags": []
   },
   "outputs": [
    {
     "name": "stdout",
     "output_type": "stream",
     "text": [
      "1\n",
      "4\n",
      "7\n"
     ]
    }
   ],
   "source": [
    "for row in abc:\n",
    "    print(row[0])"
   ]
  },
  {
   "cell_type": "code",
   "execution_count": 15,
   "id": "a4c24caf-8db6-473d-9c7a-4b290c64dea1",
   "metadata": {
    "tags": []
   },
   "outputs": [
    {
     "name": "stdout",
     "output_type": "stream",
     "text": [
      "3\n",
      "6\n",
      "9\n"
     ]
    }
   ],
   "source": [
    "for row in abc:\n",
    "    print(row[-1])"
   ]
  },
  {
   "cell_type": "markdown",
   "id": "f4fe278b-612b-45bb-80cb-3e0b4f5d08ef",
   "metadata": {},
   "source": [
    "#### 이차원 리스트로 간단한 프로그램 만들기"
   ]
  },
  {
   "cell_type": "code",
   "execution_count": 18,
   "id": "08a33fc6-ce37-41c4-a2f9-f60f4cd4d276",
   "metadata": {
    "tags": []
   },
   "outputs": [],
   "source": [
    "card = [['2020.03.04 18:56','주식회사 카카오페이',1000],\n",
    "        ['2020.03.03 14:54','네이버페이',51100],\n",
    "        ['2020.03.02 12:13','스타벅스코리아',10000],\n",
    "        ['2020.03.01 15:49','11번가',27500],\n",
    "        ['2020.02.26 11:40','주식회사 카카오페이',32500],\n",
    "        ['2020.02.26 11:38','주식회사 카카오페이',32500],\n",
    "        ['2020.02.22 15:00','G마켓',81500],\n",
    "        ['2020.02.22 15:15','네이버페이',131000]]"
   ]
  },
  {
   "cell_type": "code",
   "execution_count": 20,
   "id": "61652b09-72b5-466f-bddc-8596cdaee3fc",
   "metadata": {
    "tags": []
   },
   "outputs": [
    {
     "name": "stdout",
     "output_type": "stream",
     "text": [
      "['2020.03.04 18:56', '주식회사 카카오페이', 1000]\n",
      "['2020.03.01 15:49', '11번가', 27500]\n"
     ]
    }
   ],
   "source": [
    "print(card[0])\n",
    "print(card[3])"
   ]
  },
  {
   "cell_type": "code",
   "execution_count": 22,
   "id": "50281d5f-059e-4c42-a457-e97cb8b743e2",
   "metadata": {
    "tags": []
   },
   "outputs": [
    {
     "name": "stdout",
     "output_type": "stream",
     "text": [
      "주식회사 카카오페이\n",
      "11번가\n"
     ]
    }
   ],
   "source": [
    "print(card[0][1])\n",
    "print(card[3][1])"
   ]
  },
  {
   "cell_type": "code",
   "execution_count": 34,
   "id": "b9a54c5f-c62c-4a9f-b2d6-a28bd35adbe7",
   "metadata": {
    "tags": []
   },
   "outputs": [],
   "source": [
    "olympic =[[1,'미국',46,37,38,121],\n",
    "          [2,'영국',27,23,17,67],\n",
    "          [3,'중국',26,18,26,70],\n",
    "          [4,'러시아',19,18,19,56],\n",
    "          [5,'독일',17,18,15,42],\n",
    "          [6,'일본',12,8,21,41],\n",
    "          [7,'프랑스',10,18,14,42],\n",
    "          [8,'대한민국',9,3,9,21]]"
   ]
  },
  {
   "attachments": {
    "2f2c6b77-247c-40c9-b9e1-0716d55f5f23.png": {
     "image/png": "[encoded data removed]"
    }
   },
   "cell_type": "markdown",
   "id": "2937b0c0-c0f1-4009-b08a-39af91bd976a",
   "metadata": {},
   "source": [
    "![image.png](attachment:2f2c6b77-247c-40c9-b9e1-0716d55f5f23.png)"
   ]
  },
  {
   "cell_type": "code",
   "execution_count": 27,
   "id": "9d10a663-3c54-4843-8d5f-cceb0a393e0a",
   "metadata": {
    "tags": []
   },
   "outputs": [
    {
     "name": "stdout",
     "output_type": "stream",
     "text": [
      "미국 금메달 개수 : 46\n",
      "독일 금메달 개수 : 17\n"
     ]
    }
   ],
   "source": [
    "print(olympic[0][1],'금메달 개수 :',olympic[0][2])\n",
    "print(olympic[4][1],'금메달 개수 :',olympic[4][2])"
   ]
  },
  {
   "cell_type": "code",
   "execution_count": 29,
   "id": "2a6328b2-bc66-4778-8284-0e2b78499720",
   "metadata": {
    "tags": []
   },
   "outputs": [
    {
     "name": "stdout",
     "output_type": "stream",
     "text": [
      "[1, '미국']\n",
      "[2, '영국']\n",
      "[3, '중국']\n",
      "[4, '러시아']\n",
      "[5, '독일']\n",
      "[6, '일본']\n",
      "[7, '프랑스']\n",
      "[8, '대한민국']\n"
     ]
    }
   ],
   "source": [
    "for row in olympic : \n",
    "    print(row[:2])"
   ]
  },
  {
   "attachments": {
    "c46a0c46-1dc3-4848-81f5-12503fcff321.png": {
     "image/png": "[encoded data removed]"
    }
   },
   "cell_type": "markdown",
   "id": "e4d0aef5-a8ba-4d59-97e5-9e79009c8c4e",
   "metadata": {},
   "source": [
    "![image.png](attachment:c46a0c46-1dc3-4848-81f5-12503fcff321.png)"
   ]
  },
  {
   "cell_type": "code",
   "execution_count": 36,
   "id": "7c2fa7b6-5dd6-40b2-8605-b131a47e984b",
   "metadata": {
    "tags": []
   },
   "outputs": [
    {
     "name": "stdout",
     "output_type": "stream",
     "text": [
      "금메달보다 은메달이 더 많은 나라\n",
      "독일\n",
      "프랑스\n"
     ]
    }
   ],
   "source": [
    "print('금메달보다 은메달이 더 많은 나라')\n",
    "for row in olympic : \n",
    "    if row[2] < row[3] : \n",
    "        print(row[1])"
   ]
  },
  {
   "cell_type": "code",
   "execution_count": null,
   "id": "579d5a77-993b-4294-afa8-b6732b6bbf10",
   "metadata": {},
   "outputs": [],
   "source": []
  }
 ],
 "metadata": {
  "kernelspec": {
   "display_name": "Python 3 (ipykernel)",
   "language": "python",
   "name": "python3"
  },
  "language_info": {
   "codemirror_mode": {
    "name": "ipython",
    "version": 3
   },
   "file_extension": ".py",
   "mimetype": "text/x-python",
   "name": "python",
   "nbconvert_exporter": "python",
   "pygments_lexer": "ipython3",
   "version": "3.11.7"
  }
 },
 "nbformat": 4,
 "nbformat_minor": 5
}
