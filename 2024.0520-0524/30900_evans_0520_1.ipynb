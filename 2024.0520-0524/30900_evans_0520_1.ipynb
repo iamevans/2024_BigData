{
 "cells": [
  {
   "cell_type": "markdown",
   "id": "63daca08-5d96-4b07-8176-3d0fcf0eb7e9",
   "metadata": {},
   "source": [
    "## 30900_evans_0520_1"
   ]
  },
  {
   "cell_type": "code",
   "execution_count": 2,
   "id": "3e83a601-3954-4e8c-8fb5-a376d26b099d",
   "metadata": {
    "tags": []
   },
   "outputs": [],
   "source": [
    "olympic =[[1,'미국',46,37,38,121],\n",
    "          [2,'영국',27,23,17,67],\n",
    "          [3,'중국',26,18,26,70],\n",
    "          [4,'러시아',19,18,19,56],\n",
    "          [5,'독일',17,10,15,42],\n",
    "          [6,'일본',12,8,21,41],\n",
    "          [7,'프랑스',10,18,14,42],\n",
    "          [8,'대한민국',9,3,9,21]]"
   ]
  },
  {
   "cell_type": "code",
   "execution_count": 6,
   "id": "70ecebf2-069f-4383-aa5b-50df6132ba46",
   "metadata": {
    "tags": []
   },
   "outputs": [
    {
     "name": "stdout",
     "output_type": "stream",
     "text": [
      "미국 금메달 개수 : 46\n",
      "독일 금메달 개수 : 17\n"
     ]
    }
   ],
   "source": [
    "# 미국 독일 금메달 개수 출력해 보기 행과 열의 주소값을 이용합니다.\n",
    "print(olympic[0][1],'금메달 개수 :',olympic[0][2])\n",
    "print(olympic[4][1],'금메달 개수 :',olympic[4][2])"
   ]
  },
  {
   "cell_type": "code",
   "execution_count": 8,
   "id": "804c4725-250f-454f-a78c-cfce364acd92",
   "metadata": {
    "tags": []
   },
   "outputs": [
    {
     "name": "stdout",
     "output_type": "stream",
     "text": [
      "금메달보다 은메달이 더 많은 나라\n",
      "프랑스\n"
     ]
    }
   ],
   "source": [
    "# 금메달보다 은메딜아 더 많은 나라 출력하기\n",
    "print('금메달보다 은메달이 더 많은 나라')\n",
    "for row in olympic : \n",
    "    if row[2] < row[3] : \n",
    "        print(row[1])"
   ]
  },
  {
   "cell_type": "code",
   "execution_count": 12,
   "id": "dcea93c7-8fbf-4824-9822-81fb092c9c72",
   "metadata": {
    "tags": []
   },
   "outputs": [
    {
     "name": "stdout",
     "output_type": "stream",
     "text": [
      "금메달보다 동메달이 더 많은 나라\n",
      "일본\n",
      "프랑스\n"
     ]
    }
   ],
   "source": [
    "# 금메달보다 동메달이 더 많은 나라 출력하기\n",
    "print('금메달보다 동메달이 더 많은 나라')\n",
    "for row in olympic : \n",
    "    if row[2] < row[4] : \n",
    "        print(row[1])"
   ]
  },
  {
   "cell_type": "code",
   "execution_count": 14,
   "id": "84adf119-15e8-4b71-942b-efcfba86a0e0",
   "metadata": {
    "tags": []
   },
   "outputs": [
    {
     "name": "stdout",
     "output_type": "stream",
     "text": [
      "금메달 전체의 개수는?\n",
      "166\n"
     ]
    }
   ],
   "source": [
    "# 금메달의 전체 개수를 출력하기\n",
    "print('금메달 전체의 개수는?')\n",
    "total_gold = 0\n",
    "for row in olympic :\n",
    "    total_gold += row[2]\n",
    "print(total_gold)"
   ]
  },
  {
   "cell_type": "code",
   "execution_count": 18,
   "id": "0064ed29-c1c9-46c9-ada5-e48ee1b005c1",
   "metadata": {
    "tags": []
   },
   "outputs": [
    {
     "name": "stdout",
     "output_type": "stream",
     "text": [
      "['역사탐험대', '파이썬', '학습법', '영단어', '여행에세이', '삼국지']\n",
      "[16157, 22542, 20731, 21682, 20598, 16992]\n"
     ]
    }
   ],
   "source": [
    "import random\n",
    "\n",
    "book_name = [\"역사탐험대\",\"파이썬\",\"학습법\",\"영단어\",\"여행에세이\",\"삼국지\"]\n",
    "book_price = []\n",
    "\n",
    "for i in range(len(book_name)):\n",
    "    book_price.append(random.randint(15000,25000))\n",
    "\n",
    "print(book_name)\n",
    "print(book_price)"
   ]
  },
  {
   "cell_type": "code",
   "execution_count": 20,
   "id": "752fec79-8f37-4261-8670-2956aa1409bb",
   "metadata": {
    "tags": []
   },
   "outputs": [
    {
     "name": "stdout",
     "output_type": "stream",
     "text": [
      "가장 비싼 책은?\n",
      "파이썬\n"
     ]
    }
   ],
   "source": [
    "# 가장 비싼 책은?\n",
    "print('가장 비싼 책은?')\n",
    "expensive = max(book_price)\n",
    "idx = book_price.index(expensive)\n",
    "print(book_name[idx])"
   ]
  },
  {
   "cell_type": "code",
   "execution_count": null,
   "id": "40c01c8e-0dd5-454a-9295-63dbde4ef499",
   "metadata": {},
   "outputs": [],
   "source": []
  }
 ],
 "metadata": {
  "kernelspec": {
   "display_name": "Python 3 (ipykernel)",
   "language": "python",
   "name": "python3"
  },
  "language_info": {
   "codemirror_mode": {
    "name": "ipython",
    "version": 3
   },
   "file_extension": ".py",
   "mimetype": "text/x-python",
   "name": "python",
   "nbconvert_exporter": "python",
   "pygments_lexer": "ipython3",
   "version": "3.11.7"
  }
 },
 "nbformat": 4,
 "nbformat_minor": 5
}
