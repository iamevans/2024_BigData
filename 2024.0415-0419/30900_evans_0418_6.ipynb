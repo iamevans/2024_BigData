{
 "cells": [
  {
   "cell_type": "markdown",
   "id": "f4677b2b-2dce-47a5-8651-6d9ef5719c4a",
   "metadata": {},
   "source": [
    "## 30900_evans_0418_6"
   ]
  },
  {
   "cell_type": "markdown",
   "id": "5461a0ca-63b1-42fc-8838-6bb3b6f7d73d",
   "metadata": {},
   "source": [
    "## 예상문제3 : 가계부 만들기 프로그램"
   ]
  },
  {
   "cell_type": "code",
   "execution_count": 1,
   "id": "6a5475f5-2494-458e-94cd-9ee8136d50ae",
   "metadata": {},
   "outputs": [
    {
     "name": "stdout",
     "output_type": "stream",
     "text": [
      "월 별로 수입액을 입력시켜 주세요!\n",
      "1 월의 수입액을 입력시켜 주세요\n"
     ]
    },
    {
     "name": "stdin",
     "output_type": "stream",
     "text": [
      " 10\n"
     ]
    },
    {
     "name": "stdout",
     "output_type": "stream",
     "text": [
      "2 월의 수입액을 입력시켜 주세요\n"
     ]
    },
    {
     "name": "stdin",
     "output_type": "stream",
     "text": [
      " 11\n"
     ]
    },
    {
     "name": "stdout",
     "output_type": "stream",
     "text": [
      "3 월의 수입액을 입력시켜 주세요\n"
     ]
    },
    {
     "name": "stdin",
     "output_type": "stream",
     "text": [
      " 12\n"
     ]
    },
    {
     "name": "stdout",
     "output_type": "stream",
     "text": [
      "4 월의 수입액을 입력시켜 주세요\n"
     ]
    },
    {
     "name": "stdin",
     "output_type": "stream",
     "text": [
      " 13\n"
     ]
    },
    {
     "name": "stdout",
     "output_type": "stream",
     "text": [
      "5 월의 수입액을 입력시켜 주세요\n"
     ]
    },
    {
     "name": "stdin",
     "output_type": "stream",
     "text": [
      " 14\n"
     ]
    },
    {
     "name": "stdout",
     "output_type": "stream",
     "text": [
      "6 월의 수입액을 입력시켜 주세요\n"
     ]
    },
    {
     "name": "stdin",
     "output_type": "stream",
     "text": [
      " 15\n"
     ]
    },
    {
     "name": "stdout",
     "output_type": "stream",
     "text": [
      "상반기 월별 수입액 입니다.\n",
      "상반기 월 수입액의 평균은 75 만원 입니다.\n",
      "상반기 월 수입액의 평균은 12.5 만원 입니다.\n"
     ]
    }
   ],
   "source": [
    "money = []\n",
    "print('월 별로 수입액을 입력시켜 주세요!')\n",
    "for j in range(0,6) :\n",
    "    print((j+1),'월의 수입액을 입력시켜 주세요')\n",
    "    money.append(int(input('')))\n",
    "sum = 0\n",
    "i = 0\n",
    "print('상반기 월별 수입액 입니다.')\n",
    "while i<6 :\n",
    "    sum = money[i] + sum\n",
    "    i = i+1\n",
    "avg = sum/6\n",
    "print('상반기 월 수입액의 평균은',sum,'만원 입니다.')\n",
    "print('상반기 월 수입액의 평균은',avg,'만원 입니다.')"
   ]
  },
  {
   "cell_type": "code",
   "execution_count": null,
   "id": "5fdc69c8-9391-41f4-9699-d041aa9df35f",
   "metadata": {},
   "outputs": [],
   "source": [
    "money = []  # 월별 수입을 저장할 리스트를 초기화합니다.\n",
    "print('월 별로 수입액을 입력시켜 주세요!')\n",
    "for j in range(0, 6):\n",
    "    print((j+1), '월의 수입액을 입력시켜 주세요')\n",
    "    money.append(int(input('')))  # 사용자로부터 수입을 입력 받아 리스트에 추가합니다.\n",
    "\n",
    "sum = 0  # 총 수입을 저장할 변수를 초기화합니다.\n",
    "i = 0\n",
    "print('상반기 월별 수입액 입니다.')\n",
    "while i < 6:\n",
    "    sum = money[i] + sum  # 리스트의 각 항목을 더해 총 수입을 계산합니다.\n",
    "    i = i + 1\n",
    "\n",
    "avg = sum / 6  # 평균을 계산합니다.\n",
    "print('상반기 월 수입액의 총액은', sum, '만원 입니다.')\n",
    "print('상반기 월 수입액의 평균은', avg, '만원 입니다.')"
   ]
  },
  {
   "cell_type": "markdown",
   "id": "8383bc05-4e96-4215-94b7-706586f09619",
   "metadata": {},
   "source": [
    "## 예상문제4 : 무작위로 입력된 점수 리스트에서 70점 이상인 번호와 값 출력하기\n",
    "```\n",
    "위 코드는 0부터 100 사이의 무작위 점수를 25명의 학생에게 부여하고, 그 중에서 70점 이상인 학생들의 번호와 점수를 출력하는 프로그램입니다.\n",
    "```"
   ]
  },
  {
   "cell_type": "code",
   "execution_count": 2,
   "id": "38f9e9af-bd2d-430b-9752-b229ad42dfd1",
   "metadata": {},
   "outputs": [
    {
     "name": "stdout",
     "output_type": "stream",
     "text": [
      "리스트에서 점수가 70점 이상인 번호와 값 출력하기\n",
      "7 번 89\n",
      "11 번 84\n",
      "14 번 80\n",
      "15 번 81\n",
      "18 번 96\n",
      "22 번 72\n"
     ]
    }
   ],
   "source": [
    "import random\n",
    "score = []\n",
    "for i in range(0,25) :\n",
    "    score.append(random.randint(0,100))\n",
    "print('리스트에서 점수가 70점 이상인 번호와 값 출력하기')\n",
    "for s in score :\n",
    "    if s>=70:\n",
    "        print(score.index(s)+1,'번',s)"
   ]
  },
  {
   "cell_type": "code",
   "execution_count": 3,
   "id": "9b3825ba-f44f-4a05-844a-82dc7916294f",
   "metadata": {},
   "outputs": [
    {
     "name": "stdout",
     "output_type": "stream",
     "text": [
      "리스트에서 점수가 70점 이상인 번호와 값 출력하기\n",
      "1 번 84\n",
      "2 번 88\n",
      "4 번 91\n",
      "6 번 89\n",
      "14 번 70\n",
      "18 번 83\n",
      "21 번 77\n",
      "18 번 83\n"
     ]
    }
   ],
   "source": [
    "import random\n",
    "score = []  # 점수를 저장할 리스트를 초기화합니다.\n",
    "\n",
    "# 25명의 학생들에게 무작위로 점수를 부여합니다.\n",
    "for i in range(0, 25):\n",
    "    score.append(random.randint(0, 100))\n",
    "print('리스트에서 점수가 70점 이상인 번호와 값 출력하기')\n",
    "\n",
    "# 리스트에서 70점 이상인 점수를 가진 학생들의 번호와 점수를 출력합니다.\n",
    "for s in score:\n",
    "    if s >= 70:\n",
    "        print(score.index(s) + 1, '번', s)\n"
   ]
  },
  {
   "cell_type": "markdown",
   "id": "00925cf4-9785-4cb1-a590-fa750f03a906",
   "metadata": {},
   "source": [
    "## 예상문제5 : 지하철 게임 만들기"
   ]
  },
  {
   "cell_type": "code",
   "execution_count": 5,
   "id": "db2b31f5-3a34-49dc-b0c9-8bd5e1150e61",
   "metadata": {},
   "outputs": [
    {
     "name": "stdout",
     "output_type": "stream",
     "text": [
      "지하철~♪♬지하철~♪♬지하철~♪♬지하철~♪♬\n"
     ]
    },
    {
     "name": "stdin",
     "output_type": "stream",
     "text": [
      "몇호선? 팔호선\n",
      " 모란\n",
      " 수진\n",
      " 몰라\n"
     ]
    },
    {
     "name": "stdout",
     "output_type": "stream",
     "text": [
      "땡! 해당 역은 팔호선 이 아닙니다!\n",
      "벌칙 당첨!!\n"
     ]
    }
   ],
   "source": [
    "신분당선 = ['광교','광교중앙','상현','성복','수지구청','동천','미금','정자',\n",
    "        '판교','청계산입구','양재시민의숲','양재','강남']\n",
    "팔호선 = ['모란','수진','신흥','단대오거리','남한산성입구','산성','남위례','복정',\n",
    "       '장지','문정','가락시장','송파','석촌','잠실','몽촌토성','강동구청','천호','암사']\n",
    "\n",
    "print('지하철~♪♬'*4)\n",
    "호선 = input('몇호선?')\n",
    "for i in range(10) :\n",
    "    if 호선 == '신분당선' :\n",
    "        입력 = input()\n",
    "        if 입력 not in 신분당선:\n",
    "            print('땡! 해당 역은',호선,'이 아닙니다!')\n",
    "            print('벌칙 당첨!!')\n",
    "            break\n",
    "    elif 호선 == '팔호선' :\n",
    "        입력 = input()\n",
    "        if 입력 not in 팔호선:\n",
    "            print('땡! 해당 역은',호선,'이 아닙니다!')\n",
    "            print('벌칙 당첨!!')\n",
    "            break"
   ]
  },
  {
   "cell_type": "code",
   "execution_count": null,
   "id": "0cd343a6-cae8-4d69-9c5a-22d528c224c1",
   "metadata": {},
   "outputs": [],
   "source": [
    "# 각 호선의 역 이름을 리스트로 정의합니다.\n",
    "신분당선 = ['광교', '광교중앙', '상현', '성복', '수지구청', '동천', '미금', \n",
    "        '정자', '판교', '청계산입구', '양재시민의숲', '양재', '강남']\n",
    "팔호선 = ['모란', '수진', '신흥', '단대오거리', '남한산성입구', '산성', \n",
    "       '남위례', '복정', '장지', '문정', '가락시장', '송파', '석촌', '잠실', \n",
    "       '몽촌토성', '강동구청', '천호', '암사']\n",
    "\n",
    "print('지하철~♪♬' * 4)\n",
    "\n",
    "# 사용자로부터 호선을 입력받습니다.\n",
    "호선 = input('몇호선?')\n",
    "\n",
    "# 입력된 호선에 따라 해당 호선의 역이름을 입력받고, 입력된 역이 해당 호선에 속하는지 확인합니다.\n",
    "for i in range(10):\n",
    "    if 호선 == '신분당선':\n",
    "        입력 = input()\n",
    "        if 입력 not in 신분당선:\n",
    "            print('땡! 해당 역은', 호선, '이 아닙니다!')\n",
    "            print('벌칙 당첨!!')\n",
    "            break\n",
    "    elif 호선 == '팔호선':\n",
    "        입력 = input()\n",
    "        if 입력 not in 팔호선:\n",
    "            print('땡! 해당 역은', 호선, '이 아닙니다!')\n",
    "            print('벌칙 당첨!!')\n",
    "            break"
   ]
  }
 ],
 "metadata": {
  "kernelspec": {
   "display_name": "Python 3 (ipykernel)",
   "language": "python",
   "name": "python3"
  },
  "language_info": {
   "codemirror_mode": {
    "name": "ipython",
    "version": 3
   },
   "file_extension": ".py",
   "mimetype": "text/x-python",
   "name": "python",
   "nbconvert_exporter": "python",
   "pygments_lexer": "ipython3",
   "version": "3.9.7"
  }
 },
 "nbformat": 4,
 "nbformat_minor": 5
}
